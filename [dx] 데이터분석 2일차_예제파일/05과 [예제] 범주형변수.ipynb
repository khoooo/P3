{
 "cells": [
  {
   "cell_type": "markdown",
   "metadata": {
    "id": "qXUBfCONOdID"
   },
   "source": [
    "# 05과 [예제] 범주형변수"
   ]
  },
  {
   "cell_type": "markdown",
   "metadata": {
    "id": "h1wBK63N7OvI"
   },
   "source": [
    "* [5-1] 범주형변수의 기초 통계량"
   ]
  },
  {
   "cell_type": "code",
   "execution_count": 2,
   "metadata": {
    "id": "b9gUzLn2OdIE"
   },
   "outputs": [
    {
     "name": "stdout",
     "output_type": "stream",
     "text": [
      "F    5\n",
      "M    4\n",
      "dtype: int64\n",
      "F    0.555556\n",
      "M    0.444444\n",
      "dtype: float64\n",
      "B    4\n",
      "A    3\n",
      "C    2\n",
      "dtype: int64\n"
     ]
    }
   ],
   "source": [
    "# 1) 리스트를 이용한 기초통계량\n",
    "\n",
    "# gender = ['F','M','F','F','F','M','F','M','M']\n",
    "\n",
    "# f_cnt = gender.count('F')\n",
    "# m_cnt = gender.count('M')\n",
    "# total_cnt = len(gender)\n",
    "\n",
    "# print('F', f_cnt, f_cnt/total_cnt)\n",
    "# print('M', m_cnt, m_cnt/total_cnt)\n",
    "\n",
    "# ---------------------------------------\n",
    "# 2) 판다스를 이용한 기초통계량\n",
    "\n",
    "# import pandas as pd\n",
    "\n",
    "# gender = ['F','M','F','F','F','M','F','M','M']\n",
    "# gender = pd.Series(gender)\n",
    "\n",
    "# print(gender.value_counts())\n",
    "# print(gender.value_counts()/len(gender))\n",
    "\n",
    "# ---------------------------------------\n",
    "# 3) 데이터프레임으로 부터\n",
    "\n",
    "# import pandas as pd\n",
    "\n",
    "# titanic = pd.read_csv('https://bit.ly/3FsgwkJ')\n",
    "\n",
    "# print(titanic['Pclass'].value_counts())\n",
    "# print(titanic['Pclass'].value_counts()/len(titanic['Pclass']))\n",
    "\n",
    "# ---------------------------------------\n",
    "# 4) 연습문제를 풀어 봅시다.\n",
    "\n",
    "# 리스트로 부터 기초통계량 구하기\n",
    "grade = ['A','A','B','A','B','B','B','C','C']\n",
    "grade1 = pd.Series(grade)\n",
    "print(grade1.value_counts())\n",
    "\n",
    "# 데이터 프레임으로 부터 기초통계량 구하기\n",
    "import pandas as pd\n",
    "titanic = pd.read_csv('https://bit.ly/3FsgwkJ')\n",
    "\n",
    "# 성별에 대한 기초 통계량을 구해 봅시다.\n",
    "\n",
    "\n"
   ]
  },
  {
   "cell_type": "markdown",
   "metadata": {
    "id": "uvkAWxOX9us8"
   },
   "source": [
    "* [5-2] 범주형변수의 시각화 - bar chart"
   ]
  },
  {
   "cell_type": "code",
   "execution_count": 24,
   "metadata": {
    "colab": {
     "base_uri": "https://localhost:8080/",
     "height": 265
    },
    "executionInfo": {
     "elapsed": 914,
     "status": "ok",
     "timestamp": 1640837959231,
     "user": {
      "displayName": "한기영",
      "photoUrl": "https://lh3.googleusercontent.com/a/default-user=s64",
      "userId": "13049187003176135487"
     },
     "user_tz": -540
    },
    "id": "7Tf6a9myOdIF",
    "outputId": "2a196044-257f-460f-de42-477daed82fec",
    "scrolled": true
   },
   "outputs": [
    {
     "name": "stdout",
     "output_type": "stream",
     "text": [
      "Int64Index([3, 1, 2], dtype='int64')\n",
      "[491 216 184]\n"
     ]
    },
    {
     "data": {
      "image/png": "[encoded data removed]",
      "text/plain": [
       "<Figure size 432x288 with 1 Axes>"
      ]
     },
     "metadata": {
      "needs_background": "light"
     },
     "output_type": "display_data"
    }
   ],
   "source": [
    "# 0) 라이브러리 로딩\n",
    "\n",
    "import matplotlib.pyplot as plt\n",
    "\n",
    "# -------------------------------------\n",
    "# 1) 기본 bar chart\n",
    "\n",
    "# gender = ['F','M']\n",
    "# cnt = [6, 5]\n",
    "\n",
    "# plt.bar(gender, cnt)\n",
    "# plt.savefig('a.png')\n",
    "\n",
    "# --------------------------------------\n",
    "# 2) bar chart 옆으로 그리기\n",
    "\n",
    "# gender = ['F','M']\n",
    "# cnt = [6, 5]\n",
    "\n",
    "# plt.barh(gender, cnt)\n",
    "# plt.savefig('a.png')\n",
    "\n",
    "# --------------------------------------\n",
    "# 3) 판다스 이용하기\n",
    "import pandas as pd\n",
    "\n",
    "# gender = ['F','M','F','F','F','M','F','M','M']\n",
    "# gender = pd.Series(gender)\n",
    "\n",
    "# cnt = gender.value_counts()\n",
    "# print(cnt.values)\n",
    "# print(cnt.index)\n",
    "\n",
    "# plt.barh(cnt.index, cnt.values)\n",
    "# plt.savefig('a.png')\n",
    "\n",
    "# --------------------------------------\n",
    "# 4) 꾸미기 - 색깔, 간격\n",
    "# gender = ['F','M']\n",
    "# cnt = [6, 5]\n",
    "\n",
    "# plt.bar(gender, cnt, color = ['g','r'], width = 1)\n",
    "# plt.savefig('a.png')\n",
    "\n",
    "\n",
    "# --------------------------------------\n",
    "# 5) 연습하기.\n",
    "import pandas as pd\n",
    "titanic = pd.read_csv('https://bit.ly/3FsgwkJ')\n",
    "\n",
    "# titanic의 Pclass에 대한 bar chart를 그리시오.\n",
    "# 색깔 : g, r, b \n",
    "pclass = titanic['Pclass'].value_counts()\n",
    "print(pclass.index)\n",
    "print(pclass.values)\n",
    "\n",
    "plt.bar(pclass.index,pclass.values, color=['g','r','k'], width=0.8)\n",
    "plt.show()"
   ]
  },
  {
   "cell_type": "markdown",
   "metadata": {
    "id": "ypCiFedx_hkk"
   },
   "source": [
    "* [5-3]범주형변수의 시각화 - pie chart"
   ]
  },
  {
   "cell_type": "code",
   "execution_count": 41,
   "metadata": {
    "id": "kbNvoNKSOdIG"
   },
   "outputs": [
    {
     "data": {
      "image/png": "[encoded data removed]",
      "text/plain": [
       "<Figure size 432x288 with 1 Axes>"
      ]
     },
     "metadata": {},
     "output_type": "display_data"
    }
   ],
   "source": [
    "# 0) 라이브러리 로딩\n",
    "import matplotlib.pyplot as plt\n",
    "import pandas as pd\n",
    "\n",
    "# --------------------------------------------\n",
    "# 1) pie chart 기본\n",
    "\n",
    "# gender = ['F','M','F','F','F','M','F','M','M']\n",
    "# gender = pd.Series(gender)\n",
    "\n",
    "# cnt = gender.value_counts()\n",
    "\n",
    "# plt.pie(cnt.values, labels = cnt.index, autopct = '%.2f%%')\n",
    "# # plt.savefig('a.png')\n",
    "# plt.show()\n",
    "# --------------------------------------------\n",
    "# 2) pie chart 꾸미기 1\n",
    "\n",
    "# gender = ['F','M','F','F','F','M','F','M','M']\n",
    "# gender = pd.Series(gender)\n",
    "\n",
    "# cnt = gender.value_counts()\n",
    "\n",
    "# plt.pie(cnt.values, labels = cnt.index, autopct = '%.2f%%', \n",
    "#         startangle=90, counterclock=False)\n",
    "# # plt.savefig('a.png')\n",
    "# plt.show()\n",
    "# --------------------------------------------\n",
    "# 3) pie chart 꾸미기 2\n",
    "\n",
    "# gender = ['F','M','F','F','F','M','F','M','M']\n",
    "# gender = pd.Series(gender)\n",
    "\n",
    "# cnt = gender.value_counts()\n",
    "\n",
    "# plt.pie(cnt.values, labels = cnt.index, autopct = '% .2f% %', \n",
    "#         startangle=90, counterclock=False, \n",
    "#         explode = [0.05, 0.05], shadow=True)\n",
    "# plt.savefig('a.png')\n",
    "\n",
    "# --------------------------------------------\n",
    "# 4) 연습하기\n",
    "\n",
    "titanic = pd.read_csv('https://bit.ly/3FsgwkJ')\n",
    "\n",
    "# titanic의 Pclass에 대한 pie chart를 그리시오.\n",
    "# 소수점 1자리까지 비율(%)를 표시하시오.\n",
    "pcalss = titanic['Pclass'].value_counts()\n",
    "\n",
    "plt.pie(pcalss.values, labels=pcalss.index, autopct='%.1f%%', startangle=90,\n",
    "        counterclock=False)\n",
    "\n",
    "plt.show()"
   ]
  },
  {
   "cell_type": "code",
   "execution_count": 50,
   "metadata": {
    "id": "Vs5kv426OdIH",
    "scrolled": false
   },
   "outputs": [
    {
     "data": {
      "image/png": "[encoded data removed]",
      "text/plain": [
       "<Figure size 432x288 with 2 Axes>"
      ]
     },
     "metadata": {
      "needs_background": "light"
     },
     "output_type": "display_data"
    }
   ],
   "source": [
    "import matplotlib.pyplot as plt\n",
    "import pandas as pd\n",
    "\n",
    "titanic = pd.read_csv('https://raw.githubusercontent.com/DA4BAM/dataset/master/titanic.1.csv')\n",
    "\n",
    "cnt = titanic['Pclass'].value_counts()\n",
    "\n",
    "# plt.figure(figsize=(10,4))\n",
    "plt.subplot(1,2,1)\n",
    "plt.bar(cnt.index, cnt.values)\n",
    "\n",
    "# plt.figure(figsize=(8,4))\n",
    "plt.subplot(1,2,2)\n",
    "plt.pie(cnt.values, labels = cnt.index, autopct = '%.2f%%')\n",
    "# plt.savefig('a.png')\n",
    "plt.show()"
   ]
  },
  {
   "cell_type": "code",
   "execution_count": null,
   "metadata": {},
   "outputs": [],
   "source": []
  }
 ],
 "metadata": {
  "colab": {
   "collapsed_sections": [],
   "name": "05과 [예제] 범주형변수.ipynb",
   "provenance": [],
   "toc_visible": true
  },
  "kernelspec": {
   "display_name": "Python 3",
   "language": "python",
   "name": "python3"
  },
  "language_info": {
   "codemirror_mode": {
    "name": "ipython",
    "version": 3
   },
   "file_extension": ".py",
   "mimetype": "text/x-python",
   "name": "python",
   "nbconvert_exporter": "python",
   "pygments_lexer": "ipython3",
   "version": "3.8.8"
  }
 },
 "nbformat": 4,
 "nbformat_minor": 1
}
