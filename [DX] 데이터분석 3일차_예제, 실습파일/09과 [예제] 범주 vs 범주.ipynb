{
 "cells": [
  {
   "cell_type": "markdown",
   "metadata": {
    "id": "EnlYouStN0Le"
   },
   "source": [
    "# 9과 [예제] 범주 vs 범주"
   ]
  },
  {
   "cell_type": "markdown",
   "metadata": {
    "id": "0SJP-uYxN0Lk"
   },
   "source": [
    "## 1.환경준비"
   ]
  },
  {
   "cell_type": "markdown",
   "metadata": {
    "id": "6dMK5CsEN0Lk"
   },
   "source": [
    "* 라이브러리 불러오기"
   ]
  },
  {
   "cell_type": "code",
   "execution_count": 1,
   "metadata": {
    "colab": {
     "base_uri": "https://localhost:8080/"
    },
    "executionInfo": {
     "elapsed": 720,
     "status": "ok",
     "timestamp": 1641423572034,
     "user": {
      "displayName": "한기영",
      "photoUrl": "https://lh3.googleusercontent.com/a/default-user=s64",
      "userId": "13049187003176135487"
     },
     "user_tz": -540
    },
    "id": "Sma8Fku5N0Ll",
    "outputId": "56df8995-dbd9-4d1e-bf05-f89487276fa0"
   },
   "outputs": [],
   "source": [
    "import pandas as pd\n",
    "import numpy as np\n",
    "import random as rd\n",
    "\n",
    "import matplotlib.pyplot as plt\n",
    "import seaborn as sns\n",
    "from statsmodels.graphics.mosaicplot import mosaic      #mosaic plot!\n",
    "\n",
    "import scipy.stats as spst"
   ]
  },
  {
   "cell_type": "markdown",
   "metadata": {
    "id": "NCpMWLagN0Ln"
   },
   "source": [
    "* 데이터 불러오기 : 다음의 예제 데이터를 사용합니다.\n",
    "> ① 타이타닉 생존자  \n",
    "② 보스톤 시, 타운별 집값  \n",
    "③ 아이리스 꽃 분류\n",
    "④ 뉴욕 공기 오염도\n"
   ]
  },
  {
   "cell_type": "code",
   "execution_count": 2,
   "metadata": {
    "colab": {
     "base_uri": "https://localhost:8080/",
     "height": 206
    },
    "executionInfo": {
     "elapsed": 725,
     "status": "ok",
     "timestamp": 1641424000321,
     "user": {
      "displayName": "한기영",
      "photoUrl": "https://lh3.googleusercontent.com/a/default-user=s64",
      "userId": "13049187003176135487"
     },
     "user_tz": -540
    },
    "id": "si-trqDhN0Lo",
    "outputId": "e3dbe372-3974-4858-8c2b-bf21051165e2"
   },
   "outputs": [
    {
     "data": {
      "text/html": [
       "<div>\n",
       "<style scoped>\n",
       "    .dataframe tbody tr th:only-of-type {\n",
       "        vertical-align: middle;\n",
       "    }\n",
       "\n",
       "    .dataframe tbody tr th {\n",
       "        vertical-align: top;\n",
       "    }\n",
       "\n",
       "    .dataframe thead th {\n",
       "        text-align: right;\n",
       "    }\n",
       "</style>\n",
       "<table border=\"1\" class=\"dataframe\">\n",
       "  <thead>\n",
       "    <tr style=\"text-align: right;\">\n",
       "      <th></th>\n",
       "      <th>PassengerId</th>\n",
       "      <th>Survived</th>\n",
       "      <th>Pclass</th>\n",
       "      <th>Title</th>\n",
       "      <th>Sex</th>\n",
       "      <th>Age</th>\n",
       "      <th>SibSp</th>\n",
       "      <th>Parch</th>\n",
       "      <th>Ticket</th>\n",
       "      <th>Fare</th>\n",
       "      <th>Cabin</th>\n",
       "      <th>Embarked</th>\n",
       "      <th>AgeGroup</th>\n",
       "      <th>Family</th>\n",
       "      <th>Mother</th>\n",
       "      <th>Fare2</th>\n",
       "    </tr>\n",
       "  </thead>\n",
       "  <tbody>\n",
       "    <tr>\n",
       "      <th>0</th>\n",
       "      <td>1</td>\n",
       "      <td>0</td>\n",
       "      <td>3</td>\n",
       "      <td>Mr</td>\n",
       "      <td>male</td>\n",
       "      <td>22.0</td>\n",
       "      <td>1</td>\n",
       "      <td>0</td>\n",
       "      <td>A/5 21171</td>\n",
       "      <td>7.2500</td>\n",
       "      <td>NaN</td>\n",
       "      <td>S</td>\n",
       "      <td>Age_20</td>\n",
       "      <td>2</td>\n",
       "      <td>0</td>\n",
       "      <td>7.2500</td>\n",
       "    </tr>\n",
       "    <tr>\n",
       "      <th>1</th>\n",
       "      <td>2</td>\n",
       "      <td>1</td>\n",
       "      <td>1</td>\n",
       "      <td>Mrs</td>\n",
       "      <td>female</td>\n",
       "      <td>38.0</td>\n",
       "      <td>1</td>\n",
       "      <td>0</td>\n",
       "      <td>PC 17599</td>\n",
       "      <td>71.2833</td>\n",
       "      <td>C85</td>\n",
       "      <td>C</td>\n",
       "      <td>Age_30</td>\n",
       "      <td>2</td>\n",
       "      <td>0</td>\n",
       "      <td>71.2833</td>\n",
       "    </tr>\n",
       "    <tr>\n",
       "      <th>2</th>\n",
       "      <td>3</td>\n",
       "      <td>1</td>\n",
       "      <td>3</td>\n",
       "      <td>Miss</td>\n",
       "      <td>female</td>\n",
       "      <td>26.0</td>\n",
       "      <td>0</td>\n",
       "      <td>0</td>\n",
       "      <td>STON/O2. 3101282</td>\n",
       "      <td>7.9250</td>\n",
       "      <td>NaN</td>\n",
       "      <td>S</td>\n",
       "      <td>Age_20</td>\n",
       "      <td>1</td>\n",
       "      <td>0</td>\n",
       "      <td>7.9250</td>\n",
       "    </tr>\n",
       "    <tr>\n",
       "      <th>3</th>\n",
       "      <td>4</td>\n",
       "      <td>1</td>\n",
       "      <td>1</td>\n",
       "      <td>Mrs</td>\n",
       "      <td>female</td>\n",
       "      <td>35.0</td>\n",
       "      <td>1</td>\n",
       "      <td>0</td>\n",
       "      <td>113803</td>\n",
       "      <td>53.1000</td>\n",
       "      <td>C123</td>\n",
       "      <td>S</td>\n",
       "      <td>Age_30</td>\n",
       "      <td>2</td>\n",
       "      <td>0</td>\n",
       "      <td>53.1000</td>\n",
       "    </tr>\n",
       "    <tr>\n",
       "      <th>4</th>\n",
       "      <td>5</td>\n",
       "      <td>0</td>\n",
       "      <td>3</td>\n",
       "      <td>Mr</td>\n",
       "      <td>male</td>\n",
       "      <td>35.0</td>\n",
       "      <td>0</td>\n",
       "      <td>0</td>\n",
       "      <td>373450</td>\n",
       "      <td>8.0500</td>\n",
       "      <td>NaN</td>\n",
       "      <td>S</td>\n",
       "      <td>Age_30</td>\n",
       "      <td>1</td>\n",
       "      <td>0</td>\n",
       "      <td>8.0500</td>\n",
       "    </tr>\n",
       "  </tbody>\n",
       "</table>\n",
       "</div>"
      ],
      "text/plain": [
       "   PassengerId  Survived  Pclass Title     Sex   Age  SibSp  Parch  \\\n",
       "0            1         0       3    Mr    male  22.0      1      0   \n",
       "1            2         1       1   Mrs  female  38.0      1      0   \n",
       "2            3         1       3  Miss  female  26.0      0      0   \n",
       "3            4         1       1   Mrs  female  35.0      1      0   \n",
       "4            5         0       3    Mr    male  35.0      0      0   \n",
       "\n",
       "             Ticket     Fare Cabin Embarked AgeGroup  Family  Mother    Fare2  \n",
       "0         A/5 21171   7.2500   NaN        S   Age_20       2       0   7.2500  \n",
       "1          PC 17599  71.2833   C85        C   Age_30       2       0  71.2833  \n",
       "2  STON/O2. 3101282   7.9250   NaN        S   Age_20       1       0   7.9250  \n",
       "3            113803  53.1000  C123        S   Age_30       2       0  53.1000  \n",
       "4            373450   8.0500   NaN        S   Age_30       1       0   8.0500  "
      ]
     },
     "execution_count": 2,
     "metadata": {},
     "output_type": "execute_result"
    }
   ],
   "source": [
    "# 타이타닉 데이터\n",
    "titanic = pd.read_csv('https://raw.githubusercontent.com/DA4BAM/dataset/master/titanic.1.csv')\n",
    "titanic.head()"
   ]
  },
  {
   "cell_type": "code",
   "execution_count": 3,
   "metadata": {
    "colab": {
     "base_uri": "https://localhost:8080/",
     "height": 206
    },
    "executionInfo": {
     "elapsed": 317,
     "status": "ok",
     "timestamp": 1641423572349,
     "user": {
      "displayName": "한기영",
      "photoUrl": "https://lh3.googleusercontent.com/a/default-user=s64",
      "userId": "13049187003176135487"
     },
     "user_tz": -540
    },
    "id": "0ifwMvLRN0Lr",
    "outputId": "71adf568-93d6-45a1-bfe9-d1bfa39a08f9"
   },
   "outputs": [
    {
     "data": {
      "text/html": [
       "<div>\n",
       "<style scoped>\n",
       "    .dataframe tbody tr th:only-of-type {\n",
       "        vertical-align: middle;\n",
       "    }\n",
       "\n",
       "    .dataframe tbody tr th {\n",
       "        vertical-align: top;\n",
       "    }\n",
       "\n",
       "    .dataframe thead th {\n",
       "        text-align: right;\n",
       "    }\n",
       "</style>\n",
       "<table border=\"1\" class=\"dataframe\">\n",
       "  <thead>\n",
       "    <tr style=\"text-align: right;\">\n",
       "      <th></th>\n",
       "      <th>Sepal.Length</th>\n",
       "      <th>Sepal.Width</th>\n",
       "      <th>Petal.Length</th>\n",
       "      <th>Petal.Width</th>\n",
       "      <th>Species</th>\n",
       "    </tr>\n",
       "  </thead>\n",
       "  <tbody>\n",
       "    <tr>\n",
       "      <th>0</th>\n",
       "      <td>5.1</td>\n",
       "      <td>3.5</td>\n",
       "      <td>1.4</td>\n",
       "      <td>0.2</td>\n",
       "      <td>setosa</td>\n",
       "    </tr>\n",
       "    <tr>\n",
       "      <th>1</th>\n",
       "      <td>4.9</td>\n",
       "      <td>3.0</td>\n",
       "      <td>1.4</td>\n",
       "      <td>0.2</td>\n",
       "      <td>setosa</td>\n",
       "    </tr>\n",
       "    <tr>\n",
       "      <th>2</th>\n",
       "      <td>4.7</td>\n",
       "      <td>3.2</td>\n",
       "      <td>1.3</td>\n",
       "      <td>0.2</td>\n",
       "      <td>setosa</td>\n",
       "    </tr>\n",
       "    <tr>\n",
       "      <th>3</th>\n",
       "      <td>4.6</td>\n",
       "      <td>3.1</td>\n",
       "      <td>1.5</td>\n",
       "      <td>0.2</td>\n",
       "      <td>setosa</td>\n",
       "    </tr>\n",
       "    <tr>\n",
       "      <th>4</th>\n",
       "      <td>5.0</td>\n",
       "      <td>3.6</td>\n",
       "      <td>1.4</td>\n",
       "      <td>0.2</td>\n",
       "      <td>setosa</td>\n",
       "    </tr>\n",
       "  </tbody>\n",
       "</table>\n",
       "</div>"
      ],
      "text/plain": [
       "   Sepal.Length  Sepal.Width  Petal.Length  Petal.Width Species\n",
       "0           5.1          3.5           1.4          0.2  setosa\n",
       "1           4.9          3.0           1.4          0.2  setosa\n",
       "2           4.7          3.2           1.3          0.2  setosa\n",
       "3           4.6          3.1           1.5          0.2  setosa\n",
       "4           5.0          3.6           1.4          0.2  setosa"
      ]
     },
     "execution_count": 3,
     "metadata": {},
     "output_type": "execute_result"
    }
   ],
   "source": [
    "# 아이리스 꽃 분류\n",
    "iris = pd.read_csv('https://raw.githubusercontent.com/DA4BAM/dataset/master/iris.csv')\n",
    "iris.head()"
   ]
  },
  {
   "cell_type": "code",
   "execution_count": 4,
   "metadata": {
    "colab": {
     "base_uri": "https://localhost:8080/",
     "height": 206
    },
    "executionInfo": {
     "elapsed": 332,
     "status": "ok",
     "timestamp": 1641423572680,
     "user": {
      "displayName": "한기영",
      "photoUrl": "https://lh3.googleusercontent.com/a/default-user=s64",
      "userId": "13049187003176135487"
     },
     "user_tz": -540
    },
    "id": "9F9zOhGL6nt0",
    "outputId": "1dfd5ea4-338a-421d-ab5a-c4d849523064"
   },
   "outputs": [
    {
     "data": {
      "text/html": [
       "<div>\n",
       "<style scoped>\n",
       "    .dataframe tbody tr th:only-of-type {\n",
       "        vertical-align: middle;\n",
       "    }\n",
       "\n",
       "    .dataframe tbody tr th {\n",
       "        vertical-align: top;\n",
       "    }\n",
       "\n",
       "    .dataframe thead th {\n",
       "        text-align: right;\n",
       "    }\n",
       "</style>\n",
       "<table border=\"1\" class=\"dataframe\">\n",
       "  <thead>\n",
       "    <tr style=\"text-align: right;\">\n",
       "      <th></th>\n",
       "      <th>crim</th>\n",
       "      <th>indus</th>\n",
       "      <th>chas</th>\n",
       "      <th>nox</th>\n",
       "      <th>rm</th>\n",
       "      <th>age</th>\n",
       "      <th>dis</th>\n",
       "      <th>rad</th>\n",
       "      <th>tax</th>\n",
       "      <th>ptratio</th>\n",
       "      <th>black</th>\n",
       "      <th>lstat</th>\n",
       "      <th>medv</th>\n",
       "      <th>zn2</th>\n",
       "    </tr>\n",
       "  </thead>\n",
       "  <tbody>\n",
       "    <tr>\n",
       "      <th>0</th>\n",
       "      <td>0.00632</td>\n",
       "      <td>2.31</td>\n",
       "      <td>0</td>\n",
       "      <td>0.538</td>\n",
       "      <td>6.575</td>\n",
       "      <td>65.2</td>\n",
       "      <td>4.0900</td>\n",
       "      <td>1</td>\n",
       "      <td>296</td>\n",
       "      <td>15.3</td>\n",
       "      <td>396.90</td>\n",
       "      <td>4.98</td>\n",
       "      <td>24.0</td>\n",
       "      <td>1.0</td>\n",
       "    </tr>\n",
       "    <tr>\n",
       "      <th>1</th>\n",
       "      <td>0.02731</td>\n",
       "      <td>7.07</td>\n",
       "      <td>0</td>\n",
       "      <td>0.469</td>\n",
       "      <td>6.421</td>\n",
       "      <td>78.9</td>\n",
       "      <td>4.9671</td>\n",
       "      <td>2</td>\n",
       "      <td>242</td>\n",
       "      <td>17.8</td>\n",
       "      <td>396.90</td>\n",
       "      <td>9.14</td>\n",
       "      <td>21.6</td>\n",
       "      <td>0.0</td>\n",
       "    </tr>\n",
       "    <tr>\n",
       "      <th>2</th>\n",
       "      <td>0.02729</td>\n",
       "      <td>7.07</td>\n",
       "      <td>0</td>\n",
       "      <td>0.469</td>\n",
       "      <td>7.185</td>\n",
       "      <td>61.1</td>\n",
       "      <td>4.9671</td>\n",
       "      <td>2</td>\n",
       "      <td>242</td>\n",
       "      <td>17.8</td>\n",
       "      <td>392.83</td>\n",
       "      <td>4.03</td>\n",
       "      <td>34.7</td>\n",
       "      <td>0.0</td>\n",
       "    </tr>\n",
       "    <tr>\n",
       "      <th>3</th>\n",
       "      <td>0.03237</td>\n",
       "      <td>2.18</td>\n",
       "      <td>0</td>\n",
       "      <td>0.458</td>\n",
       "      <td>6.998</td>\n",
       "      <td>45.8</td>\n",
       "      <td>6.0622</td>\n",
       "      <td>3</td>\n",
       "      <td>222</td>\n",
       "      <td>18.7</td>\n",
       "      <td>394.63</td>\n",
       "      <td>2.94</td>\n",
       "      <td>33.4</td>\n",
       "      <td>0.0</td>\n",
       "    </tr>\n",
       "    <tr>\n",
       "      <th>4</th>\n",
       "      <td>0.06905</td>\n",
       "      <td>2.18</td>\n",
       "      <td>0</td>\n",
       "      <td>0.458</td>\n",
       "      <td>7.147</td>\n",
       "      <td>54.2</td>\n",
       "      <td>6.0622</td>\n",
       "      <td>3</td>\n",
       "      <td>222</td>\n",
       "      <td>18.7</td>\n",
       "      <td>396.90</td>\n",
       "      <td>5.33</td>\n",
       "      <td>36.2</td>\n",
       "      <td>0.0</td>\n",
       "    </tr>\n",
       "  </tbody>\n",
       "</table>\n",
       "</div>"
      ],
      "text/plain": [
       "      crim  indus  chas    nox     rm   age     dis  rad  tax  ptratio  \\\n",
       "0  0.00632   2.31     0  0.538  6.575  65.2  4.0900    1  296     15.3   \n",
       "1  0.02731   7.07     0  0.469  6.421  78.9  4.9671    2  242     17.8   \n",
       "2  0.02729   7.07     0  0.469  7.185  61.1  4.9671    2  242     17.8   \n",
       "3  0.03237   2.18     0  0.458  6.998  45.8  6.0622    3  222     18.7   \n",
       "4  0.06905   2.18     0  0.458  7.147  54.2  6.0622    3  222     18.7   \n",
       "\n",
       "    black  lstat  medv  zn2  \n",
       "0  396.90   4.98  24.0  1.0  \n",
       "1  396.90   9.14  21.6  0.0  \n",
       "2  392.83   4.03  34.7  0.0  \n",
       "3  394.63   2.94  33.4  0.0  \n",
       "4  396.90   5.33  36.2  0.0  "
      ]
     },
     "execution_count": 4,
     "metadata": {},
     "output_type": "execute_result"
    }
   ],
   "source": [
    "# 보스톤 집값 데이터\n",
    "boston = pd.read_csv('https://raw.githubusercontent.com/DA4BAM/dataset/master/boston2_NA.csv')\n",
    "boston.head()"
   ]
  },
  {
   "cell_type": "code",
   "execution_count": 5,
   "metadata": {
    "colab": {
     "base_uri": "https://localhost:8080/",
     "height": 206
    },
    "executionInfo": {
     "elapsed": 4,
     "status": "ok",
     "timestamp": 1641423572680,
     "user": {
      "displayName": "한기영",
      "photoUrl": "https://lh3.googleusercontent.com/a/default-user=s64",
      "userId": "13049187003176135487"
     },
     "user_tz": -540
    },
    "id": "IdRS2OER6pw9",
    "outputId": "5bd1c5df-98cd-4911-a5f5-b8c204e0b48b"
   },
   "outputs": [
    {
     "data": {
      "text/html": [
       "<div>\n",
       "<style scoped>\n",
       "    .dataframe tbody tr th:only-of-type {\n",
       "        vertical-align: middle;\n",
       "    }\n",
       "\n",
       "    .dataframe tbody tr th {\n",
       "        vertical-align: top;\n",
       "    }\n",
       "\n",
       "    .dataframe thead th {\n",
       "        text-align: right;\n",
       "    }\n",
       "</style>\n",
       "<table border=\"1\" class=\"dataframe\">\n",
       "  <thead>\n",
       "    <tr style=\"text-align: right;\">\n",
       "      <th></th>\n",
       "      <th>Ozone</th>\n",
       "      <th>Solar.R</th>\n",
       "      <th>Wind</th>\n",
       "      <th>Temp</th>\n",
       "      <th>Date</th>\n",
       "      <th>Month</th>\n",
       "      <th>Weekday</th>\n",
       "    </tr>\n",
       "  </thead>\n",
       "  <tbody>\n",
       "    <tr>\n",
       "      <th>0</th>\n",
       "      <td>41</td>\n",
       "      <td>190.0</td>\n",
       "      <td>7.4</td>\n",
       "      <td>67</td>\n",
       "      <td>1973-05-01</td>\n",
       "      <td>5</td>\n",
       "      <td>1</td>\n",
       "    </tr>\n",
       "    <tr>\n",
       "      <th>1</th>\n",
       "      <td>36</td>\n",
       "      <td>118.0</td>\n",
       "      <td>8.0</td>\n",
       "      <td>72</td>\n",
       "      <td>1973-05-02</td>\n",
       "      <td>5</td>\n",
       "      <td>2</td>\n",
       "    </tr>\n",
       "    <tr>\n",
       "      <th>2</th>\n",
       "      <td>12</td>\n",
       "      <td>149.0</td>\n",
       "      <td>12.6</td>\n",
       "      <td>74</td>\n",
       "      <td>1973-05-03</td>\n",
       "      <td>5</td>\n",
       "      <td>3</td>\n",
       "    </tr>\n",
       "    <tr>\n",
       "      <th>3</th>\n",
       "      <td>18</td>\n",
       "      <td>313.0</td>\n",
       "      <td>11.5</td>\n",
       "      <td>62</td>\n",
       "      <td>1973-05-04</td>\n",
       "      <td>5</td>\n",
       "      <td>4</td>\n",
       "    </tr>\n",
       "    <tr>\n",
       "      <th>4</th>\n",
       "      <td>19</td>\n",
       "      <td>NaN</td>\n",
       "      <td>14.3</td>\n",
       "      <td>56</td>\n",
       "      <td>1973-05-05</td>\n",
       "      <td>5</td>\n",
       "      <td>5</td>\n",
       "    </tr>\n",
       "  </tbody>\n",
       "</table>\n",
       "</div>"
      ],
      "text/plain": [
       "   Ozone  Solar.R  Wind  Temp       Date  Month  Weekday\n",
       "0     41    190.0   7.4    67 1973-05-01      5        1\n",
       "1     36    118.0   8.0    72 1973-05-02      5        2\n",
       "2     12    149.0  12.6    74 1973-05-03      5        3\n",
       "3     18    313.0  11.5    62 1973-05-04      5        4\n",
       "4     19      NaN  14.3    56 1973-05-05      5        5"
      ]
     },
     "execution_count": 5,
     "metadata": {},
     "output_type": "execute_result"
    }
   ],
   "source": [
    "# 뉴욕시 공기 오염도 데이터\n",
    "air = pd.read_csv('https://raw.githubusercontent.com/DA4BAM/dataset/master/air2.csv')\n",
    "air['Date'] = pd.to_datetime(air['Date'])\n",
    "air['Month'] = air.Date.dt.month\n",
    "air['Weekday'] = air.Date.dt.weekday\n",
    "air.head()"
   ]
  },
  {
   "cell_type": "markdown",
   "metadata": {
    "id": "24HAzukSN0Ls"
   },
   "source": [
    "## 2.교차표(pd.crosstab)"
   ]
  },
  {
   "cell_type": "markdown",
   "metadata": {
    "id": "HYTfjgZNdSKc"
   },
   "source": [
    "Pandas의 교차표 함수 : pd.crosstab( 행(index), 열, normalize = )\n",
    "* Normalize 옵션을 사용해 봅시다.\n",
    "    * columns : 열 기준 100%\n",
    "    * index : 행 기준 100%\n",
    "    * all : 전체 기준 100%"
   ]
  },
  {
   "cell_type": "markdown",
   "metadata": {
    "id": "mAsgLU6MdII8"
   },
   "source": [
    "* 1) 그냥 집계하기"
   ]
  },
  {
   "cell_type": "code",
   "execution_count": 6,
   "metadata": {
    "colab": {
     "base_uri": "https://localhost:8080/",
     "height": 143
    },
    "executionInfo": {
     "elapsed": 374,
     "status": "ok",
     "timestamp": 1641423619156,
     "user": {
      "displayName": "한기영",
      "photoUrl": "https://lh3.googleusercontent.com/a/default-user=s64",
      "userId": "13049187003176135487"
     },
     "user_tz": -540
    },
    "id": "PVVnjqcSYFWs",
    "outputId": "96011306-8399-4e18-866d-039e1c8edc3c"
   },
   "outputs": [
    {
     "data": {
      "text/html": [
       "<div>\n",
       "<style scoped>\n",
       "    .dataframe tbody tr th:only-of-type {\n",
       "        vertical-align: middle;\n",
       "    }\n",
       "\n",
       "    .dataframe tbody tr th {\n",
       "        vertical-align: top;\n",
       "    }\n",
       "\n",
       "    .dataframe thead th {\n",
       "        text-align: right;\n",
       "    }\n",
       "</style>\n",
       "<table border=\"1\" class=\"dataframe\">\n",
       "  <thead>\n",
       "    <tr style=\"text-align: right;\">\n",
       "      <th>Sex</th>\n",
       "      <th>female</th>\n",
       "      <th>male</th>\n",
       "    </tr>\n",
       "    <tr>\n",
       "      <th>Survived</th>\n",
       "      <th></th>\n",
       "      <th></th>\n",
       "    </tr>\n",
       "  </thead>\n",
       "  <tbody>\n",
       "    <tr>\n",
       "      <th>0</th>\n",
       "      <td>81</td>\n",
       "      <td>468</td>\n",
       "    </tr>\n",
       "    <tr>\n",
       "      <th>1</th>\n",
       "      <td>233</td>\n",
       "      <td>109</td>\n",
       "    </tr>\n",
       "  </tbody>\n",
       "</table>\n",
       "</div>"
      ],
      "text/plain": [
       "Sex       female  male\n",
       "Survived              \n",
       "0             81   468\n",
       "1            233   109"
      ]
     },
     "execution_count": 6,
     "metadata": {},
     "output_type": "execute_result"
    }
   ],
   "source": [
    "# 행 : Survived, 열 : Sex\n",
    "pd.crosstab(titanic['Survived'], titanic['Sex'])"
   ]
  },
  {
   "cell_type": "code",
   "execution_count": 7,
   "metadata": {
    "colab": {
     "base_uri": "https://localhost:8080/",
     "height": 143
    },
    "executionInfo": {
     "elapsed": 2,
     "status": "ok",
     "timestamp": 1641423619471,
     "user": {
      "displayName": "한기영",
      "photoUrl": "https://lh3.googleusercontent.com/a/default-user=s64",
      "userId": "13049187003176135487"
     },
     "user_tz": -540
    },
    "id": "4t4Vec-od2dz",
    "outputId": "1b3c36bb-ec1c-4f9c-d4c0-6b18e799746b"
   },
   "outputs": [
    {
     "data": {
      "text/html": [
       "<div>\n",
       "<style scoped>\n",
       "    .dataframe tbody tr th:only-of-type {\n",
       "        vertical-align: middle;\n",
       "    }\n",
       "\n",
       "    .dataframe tbody tr th {\n",
       "        vertical-align: top;\n",
       "    }\n",
       "\n",
       "    .dataframe thead th {\n",
       "        text-align: right;\n",
       "    }\n",
       "</style>\n",
       "<table border=\"1\" class=\"dataframe\">\n",
       "  <thead>\n",
       "    <tr style=\"text-align: right;\">\n",
       "      <th>Survived</th>\n",
       "      <th>0</th>\n",
       "      <th>1</th>\n",
       "    </tr>\n",
       "    <tr>\n",
       "      <th>Sex</th>\n",
       "      <th></th>\n",
       "      <th></th>\n",
       "    </tr>\n",
       "  </thead>\n",
       "  <tbody>\n",
       "    <tr>\n",
       "      <th>female</th>\n",
       "      <td>81</td>\n",
       "      <td>233</td>\n",
       "    </tr>\n",
       "    <tr>\n",
       "      <th>male</th>\n",
       "      <td>468</td>\n",
       "      <td>109</td>\n",
       "    </tr>\n",
       "  </tbody>\n",
       "</table>\n",
       "</div>"
      ],
      "text/plain": [
       "Survived    0    1\n",
       "Sex               \n",
       "female     81  233\n",
       "male      468  109"
      ]
     },
     "execution_count": 7,
     "metadata": {},
     "output_type": "execute_result"
    }
   ],
   "source": [
    "# 행 : Sex, 열 : Survived\n",
    "pd.crosstab(titanic['Sex'], titanic['Survived'])"
   ]
  },
  {
   "cell_type": "markdown",
   "metadata": {
    "id": "MHTINW15dktl"
   },
   "source": [
    "* 2) normalize : 열 기준 100%\n",
    "    * normalize='columns'"
   ]
  },
  {
   "cell_type": "code",
   "execution_count": 8,
   "metadata": {
    "colab": {
     "base_uri": "https://localhost:8080/",
     "height": 143
    },
    "executionInfo": {
     "elapsed": 2,
     "status": "ok",
     "timestamp": 1641423622739,
     "user": {
      "displayName": "한기영",
      "photoUrl": "https://lh3.googleusercontent.com/a/default-user=s64",
      "userId": "13049187003176135487"
     },
     "user_tz": -540
    },
    "id": "UzkhsxsYdktm",
    "outputId": "3c002eff-693e-490d-de97-4df551f4b8e2"
   },
   "outputs": [
    {
     "data": {
      "text/html": [
       "<div>\n",
       "<style scoped>\n",
       "    .dataframe tbody tr th:only-of-type {\n",
       "        vertical-align: middle;\n",
       "    }\n",
       "\n",
       "    .dataframe tbody tr th {\n",
       "        vertical-align: top;\n",
       "    }\n",
       "\n",
       "    .dataframe thead th {\n",
       "        text-align: right;\n",
       "    }\n",
       "</style>\n",
       "<table border=\"1\" class=\"dataframe\">\n",
       "  <thead>\n",
       "    <tr style=\"text-align: right;\">\n",
       "      <th>Sex</th>\n",
       "      <th>female</th>\n",
       "      <th>male</th>\n",
       "    </tr>\n",
       "    <tr>\n",
       "      <th>Survived</th>\n",
       "      <th></th>\n",
       "      <th></th>\n",
       "    </tr>\n",
       "  </thead>\n",
       "  <tbody>\n",
       "    <tr>\n",
       "      <th>0</th>\n",
       "      <td>0.257962</td>\n",
       "      <td>0.811092</td>\n",
       "    </tr>\n",
       "    <tr>\n",
       "      <th>1</th>\n",
       "      <td>0.742038</td>\n",
       "      <td>0.188908</td>\n",
       "    </tr>\n",
       "  </tbody>\n",
       "</table>\n",
       "</div>"
      ],
      "text/plain": [
       "Sex         female      male\n",
       "Survived                    \n",
       "0         0.257962  0.811092\n",
       "1         0.742038  0.188908"
      ]
     },
     "execution_count": 8,
     "metadata": {},
     "output_type": "execute_result"
    }
   ],
   "source": [
    "pd.crosstab(titanic['Survived'], titanic['Sex'], normalize='columns')"
   ]
  },
  {
   "cell_type": "markdown",
   "metadata": {
    "id": "6pj7iXaRdkya"
   },
   "source": [
    "* 3) nomalize : 행 기준 100%\n",
    "    * normalize='index'"
   ]
  },
  {
   "cell_type": "code",
   "execution_count": 9,
   "metadata": {
    "colab": {
     "base_uri": "https://localhost:8080/",
     "height": 143
    },
    "executionInfo": {
     "elapsed": 403,
     "status": "ok",
     "timestamp": 1641423675366,
     "user": {
      "displayName": "한기영",
      "photoUrl": "https://lh3.googleusercontent.com/a/default-user=s64",
      "userId": "13049187003176135487"
     },
     "user_tz": -540
    },
    "id": "GdMVHxPUdkya",
    "outputId": "8970bef4-5b70-4fd7-d77f-017b5654898f"
   },
   "outputs": [
    {
     "data": {
      "text/html": [
       "<div>\n",
       "<style scoped>\n",
       "    .dataframe tbody tr th:only-of-type {\n",
       "        vertical-align: middle;\n",
       "    }\n",
       "\n",
       "    .dataframe tbody tr th {\n",
       "        vertical-align: top;\n",
       "    }\n",
       "\n",
       "    .dataframe thead th {\n",
       "        text-align: right;\n",
       "    }\n",
       "</style>\n",
       "<table border=\"1\" class=\"dataframe\">\n",
       "  <thead>\n",
       "    <tr style=\"text-align: right;\">\n",
       "      <th>Sex</th>\n",
       "      <th>female</th>\n",
       "      <th>male</th>\n",
       "    </tr>\n",
       "    <tr>\n",
       "      <th>Survived</th>\n",
       "      <th></th>\n",
       "      <th></th>\n",
       "    </tr>\n",
       "  </thead>\n",
       "  <tbody>\n",
       "    <tr>\n",
       "      <th>0</th>\n",
       "      <td>0.147541</td>\n",
       "      <td>0.852459</td>\n",
       "    </tr>\n",
       "    <tr>\n",
       "      <th>1</th>\n",
       "      <td>0.681287</td>\n",
       "      <td>0.318713</td>\n",
       "    </tr>\n",
       "  </tbody>\n",
       "</table>\n",
       "</div>"
      ],
      "text/plain": [
       "Sex         female      male\n",
       "Survived                    \n",
       "0         0.147541  0.852459\n",
       "1         0.681287  0.318713"
      ]
     },
     "execution_count": 9,
     "metadata": {},
     "output_type": "execute_result"
    }
   ],
   "source": [
    "pd.crosstab(titanic['Survived'], titanic['Sex'], normalize='index')"
   ]
  },
  {
   "cell_type": "markdown",
   "metadata": {
    "id": "vd82E0RZdk3P"
   },
   "source": [
    "* 4) nomalize : 전체 기준 100%\n",
    "    * normalize='all'"
   ]
  },
  {
   "cell_type": "code",
   "execution_count": 10,
   "metadata": {
    "id": "O__CJKlRdk3P"
   },
   "outputs": [
    {
     "data": {
      "text/html": [
       "<div>\n",
       "<style scoped>\n",
       "    .dataframe tbody tr th:only-of-type {\n",
       "        vertical-align: middle;\n",
       "    }\n",
       "\n",
       "    .dataframe tbody tr th {\n",
       "        vertical-align: top;\n",
       "    }\n",
       "\n",
       "    .dataframe thead th {\n",
       "        text-align: right;\n",
       "    }\n",
       "</style>\n",
       "<table border=\"1\" class=\"dataframe\">\n",
       "  <thead>\n",
       "    <tr style=\"text-align: right;\">\n",
       "      <th>Sex</th>\n",
       "      <th>female</th>\n",
       "      <th>male</th>\n",
       "    </tr>\n",
       "    <tr>\n",
       "      <th>Survived</th>\n",
       "      <th></th>\n",
       "      <th></th>\n",
       "    </tr>\n",
       "  </thead>\n",
       "  <tbody>\n",
       "    <tr>\n",
       "      <th>0</th>\n",
       "      <td>0.090909</td>\n",
       "      <td>0.525253</td>\n",
       "    </tr>\n",
       "    <tr>\n",
       "      <th>1</th>\n",
       "      <td>0.261504</td>\n",
       "      <td>0.122334</td>\n",
       "    </tr>\n",
       "  </tbody>\n",
       "</table>\n",
       "</div>"
      ],
      "text/plain": [
       "Sex         female      male\n",
       "Survived                    \n",
       "0         0.090909  0.525253\n",
       "1         0.261504  0.122334"
      ]
     },
     "execution_count": 10,
     "metadata": {},
     "output_type": "execute_result"
    }
   ],
   "source": [
    "pd.crosstab(titanic['Survived'], titanic['Sex'], normalize = 'all')"
   ]
  },
  {
   "cell_type": "markdown",
   "metadata": {
    "id": "bBPSpzBhVua5"
   },
   "source": [
    "## 3.시각화 : bar chart, mosaic"
   ]
  },
  {
   "cell_type": "markdown",
   "metadata": {
    "id": "cKOl6fYEepIE"
   },
   "source": [
    "* 100% Stacked bar chart"
   ]
  },
  {
   "cell_type": "code",
   "execution_count": 11,
   "metadata": {
    "id": "qahDr2FxNLKJ"
   },
   "outputs": [
    {
     "name": "stdout",
     "output_type": "stream",
     "text": [
      "Survived         0         1\n",
      "Pclass                      \n",
      "1         0.370370  0.629630\n",
      "2         0.527174  0.472826\n",
      "3         0.757637  0.242363\n"
     ]
    }
   ],
   "source": [
    "# Pclass --> Survived \n",
    "\n",
    "# 1) 우선 집계부터\n",
    "# 100% stacked bar chart를 위해서는 그런데 꼭 아래와 같이 해야 합니다.\n",
    "# pd.crosstab( x, y, normarlize = 'index')\n",
    "temp = pd.crosstab(titanic['Pclass'], titanic['Survived'], normalize = 'index')\n",
    "print(temp)"
   ]
  },
  {
   "cell_type": "code",
   "execution_count": 12,
   "metadata": {
    "id": "5iBw7bK1e-DX"
   },
   "outputs": [
    {
     "data": {
      "image/png": "[encoded data removed]",
      "text/plain": [
       "<Figure size 432x288 with 1 Axes>"
      ]
     },
     "metadata": {
      "needs_background": "light"
     },
     "output_type": "display_data"
    }
   ],
   "source": [
    "# 2) stacked bar!\n",
    "temp.plot.bar(stacked=True)\n",
    "\n",
    "# 평균선 추가.\n",
    "plt.axhline(1-titanic['Survived'].mean(), color = 'r')\n",
    "plt.show()"
   ]
  },
  {
   "cell_type": "markdown",
   "metadata": {
    "id": "yWFyRtVRfD8C"
   },
   "source": [
    "* mosaic plot"
   ]
  },
  {
   "cell_type": "code",
   "execution_count": 13,
   "metadata": {
    "id": "t10ETkNKHcNi"
   },
   "outputs": [
    {
     "data": {
      "image/png": "[encoded data removed]",
      "text/plain": [
       "<Figure size 432x288 with 3 Axes>"
      ]
     },
     "metadata": {
      "needs_background": "light"
     },
     "output_type": "display_data"
    }
   ],
   "source": [
    "# mosaic( dataframe, [ x, y ])\n",
    "# 별도 집계단계가 필요하지 않습니다.\n",
    "\n",
    "mosaic(titanic, [ 'Pclass','Survived'])\n",
    "\n",
    "# 평균선 추가\n",
    "plt.axhline(1- titanic['Survived'].mean(), color = 'r')\n",
    "plt.show()"
   ]
  },
  {
   "cell_type": "markdown",
   "metadata": {
    "id": "8v7MIkTFGZun"
   },
   "source": [
    "### 실습 : 아래 관계에 대해서 교차표와 시각화를 수행해 봅시다."
   ]
  },
  {
   "cell_type": "markdown",
   "metadata": {
    "id": "sWbH5G2pGiog"
   },
   "source": [
    "* Embarked --> Survived"
   ]
  },
  {
   "cell_type": "code",
   "execution_count": null,
   "metadata": {
    "id": "SlyCxbVpTzxV"
   },
   "outputs": [],
   "source": []
  },
  {
   "cell_type": "code",
   "execution_count": null,
   "metadata": {
    "id": "4iTxBcJYTzuT"
   },
   "outputs": [],
   "source": []
  },
  {
   "cell_type": "markdown",
   "metadata": {
    "id": "RUpQCz_0fuST"
   },
   "source": [
    "* (참조) 모자익플롯을 세 범주로 그리려면..."
   ]
  },
  {
   "cell_type": "code",
   "execution_count": 11,
   "metadata": {
    "colab": {
     "base_uri": "https://localhost:8080/",
     "height": 282
    },
    "executionInfo": {
     "elapsed": 712,
     "status": "ok",
     "timestamp": 1641424037079,
     "user": {
      "displayName": "한기영",
      "photoUrl": "https://lh3.googleusercontent.com/a/default-user=s64",
      "userId": "13049187003176135487"
     },
     "user_tz": -540
    },
    "id": "R7f9BNPRS6xs",
    "outputId": "35c73fa1-b6e8-444b-96d4-fa01ea6e8685"
   },
   "outputs": [
    {
     "data": {
      "image/png": "[encoded data removed]",
      "text/plain": [
       "<Figure size 432x288 with 3 Axes>"
      ]
     },
     "metadata": {
      "needs_background": "light"
     },
     "output_type": "display_data"
    }
   ],
   "source": [
    "mosaic(titanic, ['Sex','Pclass','Survived'])\n",
    "plt.show()"
   ]
  },
  {
   "cell_type": "markdown",
   "metadata": {
    "id": "dmhYzOHLXvJC"
   },
   "source": [
    "## 4.수치화 : 카이제곱검정"
   ]
  },
  {
   "cell_type": "markdown",
   "metadata": {
    "id": "9HGXCJWhY5MC"
   },
   "source": [
    "* 카이제곱검정"
   ]
  },
  {
   "cell_type": "markdown",
   "metadata": {
    "id": "8p7ZrC7rj8Ei"
   },
   "source": [
    "![image.png](data:image/png;base64,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)"
   ]
  },
  {
   "cell_type": "markdown",
   "metadata": {
    "id": "CwbDv0nEkUIz"
   },
   "source": [
    "* 타이타닉 데이터에서 객실등급과 생존여부 간의 카이제곱 검정을 수행해 봅시다."
   ]
  },
  {
   "cell_type": "code",
   "execution_count": 14,
   "metadata": {
    "id": "Jl7IPy0GkeEn"
   },
   "outputs": [
    {
     "data": {
      "text/html": [
       "<div>\n",
       "<style scoped>\n",
       "    .dataframe tbody tr th:only-of-type {\n",
       "        vertical-align: middle;\n",
       "    }\n",
       "\n",
       "    .dataframe tbody tr th {\n",
       "        vertical-align: top;\n",
       "    }\n",
       "\n",
       "    .dataframe thead th {\n",
       "        text-align: right;\n",
       "    }\n",
       "</style>\n",
       "<table border=\"1\" class=\"dataframe\">\n",
       "  <thead>\n",
       "    <tr style=\"text-align: right;\">\n",
       "      <th>Pclass</th>\n",
       "      <th>1</th>\n",
       "      <th>2</th>\n",
       "      <th>3</th>\n",
       "    </tr>\n",
       "    <tr>\n",
       "      <th>Survived</th>\n",
       "      <th></th>\n",
       "      <th></th>\n",
       "      <th></th>\n",
       "    </tr>\n",
       "  </thead>\n",
       "  <tbody>\n",
       "    <tr>\n",
       "      <th>0</th>\n",
       "      <td>80</td>\n",
       "      <td>97</td>\n",
       "      <td>372</td>\n",
       "    </tr>\n",
       "    <tr>\n",
       "      <th>1</th>\n",
       "      <td>136</td>\n",
       "      <td>87</td>\n",
       "      <td>119</td>\n",
       "    </tr>\n",
       "  </tbody>\n",
       "</table>\n",
       "</div>"
      ],
      "text/plain": [
       "Pclass      1   2    3\n",
       "Survived              \n",
       "0          80  97  372\n",
       "1         136  87  119"
      ]
     },
     "execution_count": 14,
     "metadata": {},
     "output_type": "execute_result"
    }
   ],
   "source": [
    "pd.crosstab(titanic['Survived'], titanic['Pclass'])"
   ]
  },
  {
   "cell_type": "code",
   "execution_count": 15,
   "metadata": {
    "id": "ZIhdTgsSnE_P"
   },
   "outputs": [
    {
     "name": "stdout",
     "output_type": "stream",
     "text": [
      "교차표\n",
      " Pclass      1   2    3\n",
      "Survived              \n",
      "0          80  97  372\n",
      "1         136  87  119\n",
      "----------------------------------------------------------------------------------------------------\n",
      "카이제곱통계량 102.88898875696056\n",
      "p-value 4.549251711298793e-23\n",
      "기대빈도\n",
      " [[133.09090909 113.37373737 302.53535354]\n",
      " [ 82.90909091  70.62626263 188.46464646]]\n"
     ]
    }
   ],
   "source": [
    "# 먼저 집계\n",
    "table = pd.crosstab(titanic['Survived'], titanic['Pclass'])\n",
    "print('교차표\\n', table)\n",
    "print('-' * 100)\n",
    "\n",
    "# 카이제곱검정\n",
    "result = spst.chi2_contingency(table)\n",
    "print('카이제곱통계량', result[0])\n",
    "print('p-value', result[1])\n",
    "print('기대빈도\\n',result[3])"
   ]
  },
  {
   "cell_type": "code",
   "execution_count": 16,
   "metadata": {},
   "outputs": [
    {
     "data": {
      "text/plain": [
       "(102.88898875696056,\n",
       " 4.549251711298793e-23,\n",
       " 2,\n",
       " array([[133.09090909, 113.37373737, 302.53535354],\n",
       "        [ 82.90909091,  70.62626263, 188.46464646]]))"
      ]
     },
     "execution_count": 16,
     "metadata": {},
     "output_type": "execute_result"
    }
   ],
   "source": [
    "result"
   ]
  },
  {
   "cell_type": "markdown",
   "metadata": {
    "id": "ai4Io_lInE_Q"
   },
   "source": [
    "### 실습\n",
    "다음의 범주형 변수들에 대해서 관계를 살펴봅시다."
   ]
  },
  {
   "cell_type": "markdown",
   "metadata": {
    "id": "OzxxRUTsfq-H"
   },
   "source": [
    "* Embarked --> Survived"
   ]
  },
  {
   "cell_type": "code",
   "execution_count": 24,
   "metadata": {
    "id": "lDfMNUncXQTJ"
   },
   "outputs": [
    {
     "data": {
      "text/html": [
       "<div>\n",
       "<style scoped>\n",
       "    .dataframe tbody tr th:only-of-type {\n",
       "        vertical-align: middle;\n",
       "    }\n",
       "\n",
       "    .dataframe tbody tr th {\n",
       "        vertical-align: top;\n",
       "    }\n",
       "\n",
       "    .dataframe thead th {\n",
       "        text-align: right;\n",
       "    }\n",
       "</style>\n",
       "<table border=\"1\" class=\"dataframe\">\n",
       "  <thead>\n",
       "    <tr style=\"text-align: right;\">\n",
       "      <th>Embarked</th>\n",
       "      <th>C</th>\n",
       "      <th>Q</th>\n",
       "      <th>S</th>\n",
       "    </tr>\n",
       "    <tr>\n",
       "      <th>Survived</th>\n",
       "      <th></th>\n",
       "      <th></th>\n",
       "      <th></th>\n",
       "    </tr>\n",
       "  </thead>\n",
       "  <tbody>\n",
       "    <tr>\n",
       "      <th>0</th>\n",
       "      <td>75</td>\n",
       "      <td>47</td>\n",
       "      <td>427</td>\n",
       "    </tr>\n",
       "    <tr>\n",
       "      <th>1</th>\n",
       "      <td>93</td>\n",
       "      <td>30</td>\n",
       "      <td>219</td>\n",
       "    </tr>\n",
       "  </tbody>\n",
       "</table>\n",
       "</div>"
      ],
      "text/plain": [
       "Embarked   C   Q    S\n",
       "Survived             \n",
       "0         75  47  427\n",
       "1         93  30  219"
      ]
     },
     "execution_count": 24,
     "metadata": {},
     "output_type": "execute_result"
    }
   ],
   "source": [
    "table1 = pd.crosstab(titanic['Survived'],titanic['Embarked'])\n",
    "table1"
   ]
  },
  {
   "cell_type": "code",
   "execution_count": 25,
   "metadata": {
    "id": "1Or3nWtgXQQK"
   },
   "outputs": [
    {
     "data": {
      "text/plain": [
       "(25.964452881874784,\n",
       " 2.3008626481449577e-06,\n",
       " 2,\n",
       " array([[103.51515152,  47.44444444, 398.04040404],\n",
       "        [ 64.48484848,  29.55555556, 247.95959596]]))"
      ]
     },
     "execution_count": 25,
     "metadata": {},
     "output_type": "execute_result"
    }
   ],
   "source": [
    "result1 = spst.chi2_contingency(table1)\n",
    "result1"
   ]
  },
  {
   "cell_type": "code",
   "execution_count": 26,
   "metadata": {},
   "outputs": [
    {
     "name": "stdout",
     "output_type": "stream",
     "text": [
      "카이제곱통제량 : 25.964452881874784\n",
      "p-값 : 2.3008626481449577e-06\n",
      "기대빈도\n",
      " [[103.51515152  47.44444444 398.04040404]\n",
      " [ 64.48484848  29.55555556 247.95959596]]\n"
     ]
    }
   ],
   "source": [
    "print('카이제곱통제량 :',result1[0])\n",
    "print('p-값 :',result1[1])\n",
    "print('기대빈도\\n',result1[3])"
   ]
  },
  {
   "cell_type": "markdown",
   "metadata": {
    "id": "ivZmZltGf2zq"
   },
   "source": [
    "* (참조) 여러 변수들에 대해서 한꺼번에 검정 수행\n",
    "\n",
    "이럴때 for loop!"
   ]
  },
  {
   "cell_type": "code",
   "execution_count": 27,
   "metadata": {
    "id": "SdEve-Hpf4s5"
   },
   "outputs": [
    {
     "name": "stdout",
     "output_type": "stream",
     "text": [
      "Pclass\n",
      "카이제곱통계량 : 102.8890\n",
      "p-value : 0.00000000000000000000\n",
      "--------------------------------------\n",
      "Sex\n",
      "카이제곱통계량 : 263.0506\n",
      "p-value : 0.00000000000000000000\n",
      "--------------------------------------\n",
      "Embarked\n",
      "카이제곱통계량 : 25.9645\n",
      "p-value : 0.00000230086264814496\n",
      "--------------------------------------\n",
      "Title\n",
      "카이제곱통계량 : 289.1953\n",
      "p-value : 0.00000000000000000000\n",
      "--------------------------------------\n"
     ]
    }
   ],
   "source": [
    "vars = ['Pclass','Sex','Embarked','Title']\n",
    "\n",
    "for v in vars :\n",
    "    table = pd.crosstab(titanic['Survived'], titanic[v])\n",
    "    result = spst.chi2_contingency(table, correction=False)\n",
    "    print(v)\n",
    "    print(\"카이제곱통계량 : {:.4f}\".format(result[0]))\n",
    "    print(\"p-value : {:.20f}\".format(result[1]))\n",
    "    print('--------------------------------------')\n"
   ]
  },
  {
   "cell_type": "code",
   "execution_count": null,
   "metadata": {},
   "outputs": [],
   "source": []
  }
 ],
 "metadata": {
  "colab": {
   "collapsed_sections": [],
   "name": "09과 [예제] 범주 vs 범주.ipynb",
   "provenance": [],
   "toc_visible": true
  },
  "kernelspec": {
   "display_name": "Python 3",
   "language": "python",
   "name": "python3"
  },
  "language_info": {
   "codemirror_mode": {
    "name": "ipython",
    "version": 3
   },
   "file_extension": ".py",
   "mimetype": "text/x-python",
   "name": "python",
   "nbconvert_exporter": "python",
   "pygments_lexer": "ipython3",
   "version": "3.8.8"
  }
 },
 "nbformat": 4,
 "nbformat_minor": 1
}
